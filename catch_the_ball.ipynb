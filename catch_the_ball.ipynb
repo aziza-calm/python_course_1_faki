{
 "cells": [
  {
   "cell_type": "markdown",
   "metadata": {},
   "source": [
    "### Пользовательский интерфейс"
   ]
  },
  {
   "cell_type": "code",
   "execution_count": 1,
   "metadata": {},
   "outputs": [
    {
     "name": "stdout",
     "output_type": "stream",
     "text": [
      "Collecting pygame\n",
      "  Downloading pygame-2.0.1-cp38-cp38-win_amd64.whl (5.2 MB)\n",
      "Installing collected packages: pygame\n",
      "Successfully installed pygame-2.0.1\n"
     ]
    }
   ],
   "source": [
    "import sys\n",
    "!pip install --prefix {sys.prefix} pygame"
   ]
  },
  {
   "cell_type": "code",
   "execution_count": 3,
   "metadata": {},
   "outputs": [
    {
     "name": "stdout",
     "output_type": "stream",
     "text": [
      "pygame 2.0.1 (SDL 2.0.14, Python 3.8.5)\n",
      "Hello from the pygame community. https://www.pygame.org/contribute.html\n"
     ]
    }
   ],
   "source": [
    "import pygame\n",
    "from pygame.draw import *\n",
    "\n",
    "pygame.init()\n",
    "\n",
    "FPS = 30\n",
    "screen = pygame.display.set_mode((400, 400))\n",
    "\n",
    "pygame.display.update()\n",
    "clock = pygame.time.Clock()\n",
    "finished = False\n",
    "\n",
    "while not finished:\n",
    "    clock.tick(FPS)\n",
    "    for event in pygame.event.get():\n",
    "        if event.type == pygame.QUIT:\n",
    "            finished = True\n",
    "\n",
    "pygame.quit()"
   ]
  },
  {
   "cell_type": "code",
   "execution_count": 4,
   "metadata": {},
   "outputs": [],
   "source": [
    "import pygame\n",
    "from pygame.draw import *\n",
    "pygame.init()\n",
    "\n",
    "FPS = 30\n",
    "screen = pygame.display.set_mode((400, 400))\n",
    "\n",
    "RED = (255, 0, 0)\n",
    "BLUE = (0, 0, 255)\n",
    "\n",
    "pygame.display.update()\n",
    "clock = pygame.time.Clock()\n",
    "finished = False\n",
    "\n",
    "while not finished:\n",
    "    clock.tick(FPS)\n",
    "    for event in pygame.event.get():\n",
    "        if event.type == pygame.QUIT:\n",
    "            finished = True\n",
    "        elif event.type == pygame.MOUSEBUTTONDOWN:\n",
    "            if event.button == 1:\n",
    "                circle(screen, RED, event.pos, 50)\n",
    "                pygame.display.update()\n",
    "            elif event.button == 3:\n",
    "                circle(screen,  BLUE, event.pos, 50)\n",
    "                pygame.display.update()\n",
    "\n",
    "pygame.quit()"
   ]
  },
  {
   "cell_type": "code",
   "execution_count": null,
   "metadata": {
    "scrolled": true
   },
   "outputs": [],
   "source": [
    "import pygame\n",
    "from pygame.draw import *\n",
    "from random import randint\n",
    "pygame.init()\n",
    "\n",
    "\n",
    "WHITE = (255, 255, 255)\n",
    "BLACK = (0, 0, 0)\n",
    "FPS = 60\n",
    "SCREEN_SIZE = (1200, 900)\n",
    "\n",
    "\n",
    "class Ball:\n",
    "    def __init__(self, x, y, r, color):\n",
    "        self.x = x\n",
    "        self.y = y\n",
    "        self.r = r\n",
    "        self.color = color\n",
    "    \n",
    "    def draw(self, screen):\n",
    "        # Рисует сам шарик\n",
    "        circle(screen, self.color, (self.x, self.y), self.r)\n",
    "        # Рисует блик\n",
    "        for i in range(self.r):\n",
    "            circle(screen, [int(c+(255-c)*i/self.r) for c in self.color], [self.x+int(i/2), self.y-int(i/2)], self.r-i)\n",
    "        # Рисует вереовчку\n",
    "        lines(screen, BLACK, False, [[self.x, self.y+self.r], [self.x, self.y+2*self.r]], 1)\n",
    "        # Рисует треугольник\n",
    "        polygon(screen, self.color, [\n",
    "            (self.x, self.y+self.r),\n",
    "            (self.x+int(self.r/10), self.y+self.r+int(self.r/10)),\n",
    "            (self.x-int(self.r/10), self.y+self.r+int(self.r/10)),\n",
    "        ])\n",
    "        \n",
    "    def pos_inside(self, pos):\n",
    "        a = pos[0] - self.x\n",
    "        b = pos[1] - self.y\n",
    "        return a**2 + b**2 < self.r**2\n",
    "\n",
    "    \n",
    "class Game:\n",
    "    def __init__(self, screen_size):\n",
    "        self.screen_size = screen_size\n",
    "        self.screen = pygame.display.set_mode(screen_size)\n",
    "        self.balls = []\n",
    "        \n",
    "    def add_ball(self):\n",
    "        x = randint(int(self.screen_size[0]*0.1), int(self.screen_size[0]*0.9))\n",
    "        y = randint(int(self.screen_size[1]*0.1), int(self.screen_size[1]*0.9))\n",
    "        r = randint(10, max(10, min(self.screen_size)*0.1))\n",
    "        color = [randint(0, 255) for _ in range(3)]\n",
    "        self.balls.append(Ball(x, y, r, color))\n",
    "        \n",
    "    def draw(self):\n",
    "        self.screen.fill(WHITE)\n",
    "        for ball in self.balls:\n",
    "            ball.draw(self.screen)\n",
    "        pygame.display.update()\n",
    "        \n",
    "    def on_click(self, pos):\n",
    "        for ball in self.balls:\n",
    "            if ball.pos_inside(pos):\n",
    "                self.balls.remove(ball)\n",
    "\n",
    "        \n",
    "clock = pygame.time.Clock()\n",
    "game = Game(SCREEN_SIZE)\n",
    "\n",
    "finished = False\n",
    "\n",
    "while not finished:\n",
    "    clock.tick(FPS)\n",
    "    game.draw()\n",
    "    game.add_ball()\n",
    "    \n",
    "    for event in pygame.event.get():\n",
    "        if event.type == pygame.QUIT:\n",
    "            finished = True\n",
    "        if event.type == pygame.MOUSEBUTTONUP:\n",
    "            game.on_click(pygame.mouse.get_pos())\n",
    "\n",
    "pygame.quit()"
   ]
  },
  {
   "cell_type": "code",
   "execution_count": null,
   "metadata": {},
   "outputs": [],
   "source": []
  }
 ],
 "metadata": {
  "kernelspec": {
   "display_name": "Python 3",
   "language": "python",
   "name": "python3"
  },
  "language_info": {
   "codemirror_mode": {
    "name": "ipython",
    "version": 3
   },
   "file_extension": ".py",
   "mimetype": "text/x-python",
   "name": "python",
   "nbconvert_exporter": "python",
   "pygments_lexer": "ipython3",
   "version": "3.8.5"
  }
 },
 "nbformat": 4,
 "nbformat_minor": 4
}
