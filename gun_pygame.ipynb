{
 "cells": [
  {
   "cell_type": "markdown",
   "metadata": {},
   "source": [
    "### План \n",
    "<ol class=\"arabic simple\">\n",
    "<li>Kahoot</li>\n",
    "<li>ООП пример с собакой</li>\n",
    "<li>ООП: конструктор и стандартные методы __repr__, __str__</li>\n",
    "<li>Игра Пушка</li>\n",
    "<li>Самостоятельная работа</li>\n",
    "</ol>"
   ]
  },
  {
   "cell_type": "code",
   "execution_count": 1,
   "metadata": {},
   "outputs": [
    {
     "name": "stdout",
     "output_type": "stream",
     "text": [
      "Gaw-gaw\n",
      "Gaw-gaw\n"
     ]
    }
   ],
   "source": [
    "class Dog:\n",
    "    def say_gaw(self): # имя self для первого аргумента метода это общепринятое но не обязательное правило\n",
    "        print('Gaw-gaw')\n",
    "\n",
    "my_dog = Dog()\n",
    "another_dog = Dog()\n",
    "my_dog.say_gaw()\n",
    "another_dog.say_gaw()"
   ]
  },
  {
   "cell_type": "markdown",
   "metadata": {},
   "source": [
    "#### Можно, но не нужно\n",
    "\n",
    "Классы в питоне не статичны, можно добавлять и изменять поля и методы после определения"
   ]
  },
  {
   "cell_type": "code",
   "execution_count": 7,
   "metadata": {},
   "outputs": [
    {
     "name": "stdout",
     "output_type": "stream",
     "text": [
      "Gaw-gaw\n",
      "Bobik\n"
     ]
    }
   ],
   "source": [
    "class Dog:\n",
    "    pass\n",
    "\n",
    "def say_gaw(self):\n",
    "    print(\"Gaw-gaw\")\n",
    "    \n",
    "Dog.say_something = say_gaw\n",
    "my_dog = Dog()\n",
    "my_dog.say_something()\n",
    "my_dog.name = \"Bobik\"\n",
    "print(my_dog.name)"
   ]
  },
  {
   "cell_type": "code",
   "execution_count": null,
   "metadata": {},
   "outputs": [],
   "source": [
    "class Dog:\n",
    "    def say_gaw(self):\n",
    "        if self.angry:\n",
    "            print('GAW-GAW')\n",
    "        else:\n",
    "            print('Gaw-gaw')\n",
    "\n",
    "    def ping(self):\n",
    "        self.angry = True\n",
    "\n",
    "    def feed(self, food_count):\n",
    "        if food_count > 10:\n",
    "            self.angry = False\n",
    "\n",
    "my_dog = Dog()\n",
    "my_dog.feed(20)\n",
    "my_dog.say_gaw()      # напечатает Gaw-gaw\n",
    "my_dog.ping()\n",
    "my_dog.say_gaw()      # напечатает GAW-GAW"
   ]
  },
  {
   "cell_type": "code",
   "execution_count": null,
   "metadata": {},
   "outputs": [],
   "source": [
    "class Dog:\n",
    "    def __init__(self):\n",
    "        self.angry = False\n",
    "\n",
    "    def say_gaw(self):\n",
    "        if self.angry:\n",
    "            print('GAW-GAW')\n",
    "        else:\n",
    "            print('Gaw-gaw')\n",
    "\n",
    "my_dog = Dog()\n",
    "my_dog.say_gaw()      # ошибки нет, напечатает Gaw-gaw"
   ]
  },
  {
   "cell_type": "code",
   "execution_count": null,
   "metadata": {},
   "outputs": [],
   "source": [
    "class Dog:\n",
    "    def __init__(self, angry, count):\n",
    "        self.angry = angry\n",
    "        self.count = count\n",
    "\n",
    "    def say_gaw(self):\n",
    "        if self.angry:\n",
    "            print('GAW-' * self.count)\n",
    "        else:\n",
    "            print('gaw-' * self.count)\n",
    "\n",
    "my_dog = Dog(True, 3)\n",
    "my_dog.say_gaw()      # ошибки нет, напечатает Gaw-gaw"
   ]
  },
  {
   "cell_type": "markdown",
   "metadata": {},
   "source": [
    "```python\n",
    ">>> class A:\n",
    "...     pass\n",
    "...\n",
    ">>> a = A()\n",
    ">>> type(a)\n",
    "<class '__main__.A'>\n",
    ">>> type(A)\n",
    "<class 'type'>\n",
    ">>> type(type)\n",
    "<class 'type'>\n",
    ">>> type(1)\n",
    "<class 'int'>\n",
    ">>> type(int)\n",
    "<class 'type'>\n",
    ">>>\n",
    ">>> isinstance(1, int)\n",
    "True\n",
    ">>> isinstance(1, A)\n",
    "False\n",
    ">>> isinstance(a, A)\n",
    "True\n",
    ">>> isinstance(type, type)\n",
    "True\n",
    ">>> isinstance(A, type)\n",
    "True\n",
    "```"
   ]
  },
  {
   "cell_type": "markdown",
   "metadata": {},
   "source": [
    "```python\n",
    ">>> class A:\n",
    "...     def f(self):\n",
    "...         print('hello')\n",
    "...\n",
    ">>>\n",
    ">>> type(A.f)\n",
    "<class 'function'>\n",
    ">>> a = A()\n",
    ">>> type(a.f)\n",
    "<class 'method'>\n",
    "```"
   ]
  },
  {
   "cell_type": "markdown",
   "metadata": {},
   "source": [
    "```python\n",
    ">>> m = a.f\n",
    ">>> m is A.f\n",
    "False\n",
    ">>> m.__func__ is A.f\n",
    "True\n",
    ">>> m.__self__ is a\n",
    "True\n",
    ">>> m.__func__(m.__self__)\n",
    "hello\n",
    ">>> m()\n",
    "hello\n",
    ">>> a.f()\n",
    "hello\n",
    ">>> A.f(a)\n",
    "hello\n",
    "```"
   ]
  },
  {
   "cell_type": "markdown",
   "metadata": {},
   "source": [
    "### Стандартные методы \\_\\_repr\\_\\_, \\_\\_str\\_\\_"
   ]
  },
  {
   "cell_type": "code",
   "execution_count": 10,
   "metadata": {},
   "outputs": [],
   "source": [
    "class Dog:\n",
    "    def __repr__(self):\n",
    "        return \"Dog('\" + self.angry + \"', \" + self.count + \")\""
   ]
  },
  {
   "cell_type": "code",
   "execution_count": 11,
   "metadata": {},
   "outputs": [],
   "source": [
    "class Dog:\n",
    "    def __str__(self):\n",
    "        return self.name + ' ' + str(self.score)"
   ]
  },
  {
   "cell_type": "markdown",
   "metadata": {},
   "source": [
    "### Пушка"
   ]
  },
  {
   "cell_type": "code",
   "execution_count": null,
   "metadata": {},
   "outputs": [],
   "source": []
  }
 ],
 "metadata": {
  "kernelspec": {
   "display_name": "Python 3",
   "language": "python",
   "name": "python3"
  },
  "language_info": {
   "codemirror_mode": {
    "name": "ipython",
    "version": 3
   },
   "file_extension": ".py",
   "mimetype": "text/x-python",
   "name": "python",
   "nbconvert_exporter": "python",
   "pygments_lexer": "ipython3",
   "version": "3.9.2"
  }
 },
 "nbformat": 4,
 "nbformat_minor": 4
}
