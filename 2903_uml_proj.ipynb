{
 "cells": [
  {
   "cell_type": "markdown",
   "metadata": {},
   "source": [
    "### Про коммиты\n",
    "Не добавлять в коммит файлы, которые к коммиту не относятся.\n",
    "\n",
    "Не делайте ```git add .```\n"
   ]
  },
  {
   "cell_type": "markdown",
   "metadata": {},
   "source": [
    "### Семестровая разбалловка (demo)\n",
    "\n",
    "<p><a href=\"https://docs.google.com/spreadsheets/d/1Rw4AY7fTrx6Bnco_kS_9XEvF-ief5aImXeNFRSN9ifY/edit?usp=sharing\">Таблица с баллами</a></p>"
   ]
  },
  {
   "cell_type": "markdown",
   "metadata": {},
   "source": [
    "### Модульные тесты"
   ]
  },
  {
   "cell_type": "code",
   "execution_count": 1,
   "metadata": {},
   "outputs": [],
   "source": [
    "import unittest"
   ]
  },
  {
   "cell_type": "markdown",
   "metadata": {},
   "source": [
    "```python\n",
    "class TestStringMethods(unittest.TestCase):\n",
    "\n",
    "  def test_upper(self):\n",
    "      self.assertEqual('foo'.upper(), 'FOO')\n",
    "\n",
    "  def test_isupper(self):\n",
    "      self.assertTrue('FOO'.isupper())\n",
    "      self.assertFalse('Foo'.isupper())\n",
    "\n",
    "  def test_split(self):\n",
    "      s = 'hello world'\n",
    "      self.assertEqual(s.split(), ['hello', 'world'])\n",
    "      # Проверим, что s.split не работает, если разделитель - не строка\n",
    "      with self.assertRaises(TypeError):\n",
    "          s.split(2)\n",
    "\n",
    "if __name__ == '__main__':\n",
    "    unittest.main()\n",
    "```"
   ]
  },
  {
   "cell_type": "code",
   "execution_count": null,
   "metadata": {},
   "outputs": [],
   "source": []
  }
 ],
 "metadata": {
  "kernelspec": {
   "display_name": "Python 3",
   "language": "python",
   "name": "python3"
  },
  "language_info": {
   "codemirror_mode": {
    "name": "ipython",
    "version": 3
   },
   "file_extension": ".py",
   "mimetype": "text/x-python",
   "name": "python",
   "nbconvert_exporter": "python",
   "pygments_lexer": "ipython3",
   "version": "3.9.2"
  }
 },
 "nbformat": 4,
 "nbformat_minor": 4
}
