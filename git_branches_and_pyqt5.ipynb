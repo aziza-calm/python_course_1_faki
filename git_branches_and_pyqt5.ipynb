{
 "cells": [
  {
   "cell_type": "markdown",
   "metadata": {},
   "source": [
    "### План\n",
    "\n",
    "<ol class=\"arabic simple\">\n",
    "<li>Git branches</li>\n",
    "<li>PyQt5 основы</li>\n",
    "<li>Qt designer</li>\n",
    "</ol>"
   ]
  },
  {
   "cell_type": "markdown",
   "metadata": {},
   "source": [
    "```python\n",
    "# установка с консоли\n",
    "pip install pyqt5\n",
    "```"
   ]
  },
  {
   "cell_type": "code",
   "execution_count": 1,
   "metadata": {
    "scrolled": true
   },
   "outputs": [
    {
     "name": "stdout",
     "output_type": "stream",
     "text": [
      "Defaulting to user installation because normal site-packages is not writeable\n",
      "Requirement already satisfied: pyqt5 in /usr/lib/python3.9/site-packages (5.15.4)\n",
      "Requirement already satisfied: PyQt5-sip<13,>=12.8 in /usr/lib/python3.9/site-packages (from pyqt5) (12.8.1)\n"
     ]
    }
   ],
   "source": [
    "!pip install pyqt5"
   ]
  },
  {
   "cell_type": "markdown",
   "metadata": {},
   "source": [
    "<img src=\"img/top_bottom_push.png\" alt=\"drawing\" width=\"200\"/>"
   ]
  },
  {
   "cell_type": "code",
   "execution_count": 1,
   "metadata": {},
   "outputs": [
    {
     "data": {
      "text/plain": [
       "0"
      ]
     },
     "execution_count": 1,
     "metadata": {},
     "output_type": "execute_result"
    }
   ],
   "source": [
    "from PyQt5.QtWidgets import QApplication, QWidget, QPushButton, QVBoxLayout\n",
    "app = QApplication([])\n",
    "window = QWidget()\n",
    "layout = QVBoxLayout()\n",
    "layout.addWidget(QPushButton('Top'))\n",
    "layout.addWidget(QPushButton('Bottom'))\n",
    "window.setLayout(layout)\n",
    "window.show()\n",
    "app.exec()"
   ]
  },
  {
   "cell_type": "code",
   "execution_count": 1,
   "metadata": {},
   "outputs": [
    {
     "data": {
      "text/plain": [
       "0"
      ]
     },
     "execution_count": 1,
     "metadata": {},
     "output_type": "execute_result"
    }
   ],
   "source": [
    "from PyQt5.QtWidgets import QApplication, QWidget, QPushButton, QVBoxLayout\n",
    "app = QApplication([])\n",
    "app.setStyle('Fusion')\n",
    "window = QWidget()\n",
    "layout = QVBoxLayout()\n",
    "layout.addWidget(QPushButton('Top'))\n",
    "layout.addWidget(QPushButton('Bottom'))\n",
    "window.setLayout(layout)\n",
    "window.show()\n",
    "app.exec()"
   ]
  },
  {
   "cell_type": "code",
   "execution_count": 1,
   "metadata": {},
   "outputs": [
    {
     "data": {
      "text/plain": [
       "0"
      ]
     },
     "execution_count": 1,
     "metadata": {},
     "output_type": "execute_result"
    }
   ],
   "source": [
    "from PyQt5.QtWidgets import QApplication, QWidget, QPushButton, QVBoxLayout\n",
    "app = QApplication([])\n",
    "app.setStyle('Windows') # список доступных стилей завсит от платформы\n",
    "window = QWidget()\n",
    "layout = QVBoxLayout()\n",
    "layout.addWidget(QPushButton('Top'))\n",
    "layout.addWidget(QPushButton('Bottom'))\n",
    "window.setLayout(layout)\n",
    "window.show()\n",
    "app.exec()"
   ]
  },
  {
   "cell_type": "code",
   "execution_count": 1,
   "metadata": {},
   "outputs": [
    {
     "data": {
      "text/plain": [
       "0"
      ]
     },
     "execution_count": 1,
     "metadata": {},
     "output_type": "execute_result"
    }
   ],
   "source": [
    "from PyQt5.QtCore import Qt\n",
    "from PyQt5.QtGui import QPalette\n",
    "from PyQt5.QtWidgets import QApplication, QPushButton\n",
    "\n",
    "app = QApplication([])\n",
    "app.setStyle('Fusion')\n",
    "palette = QPalette()\n",
    "palette.setColor(QPalette.ButtonText, Qt.red)\n",
    "app.setPalette(palette)\n",
    "button = QPushButton('Hello World')\n",
    "button.show()\n",
    "app.exec()"
   ]
  },
  {
   "cell_type": "markdown",
   "metadata": {},
   "source": [
    "<p><a href=\"https://gist.github.com/mstuttgart/37c0e6d8f67a0611674e08294f3daef7\">Темный fusion</a></p>\n",
    "\n",
    "<p><a href=\"https://doc.qt.io/qt-5/stylesheet-syntax.html\">Документация по стилям</a></p>"
   ]
  },
  {
   "cell_type": "markdown",
   "metadata": {},
   "source": [
    "```python\n",
    "qApp.setStyle(\"Fusion\")\n",
    "\n",
    "dark_palette = QPalette()\n",
    "\n",
    "dark_palette.setColor(QPalette.Window, QColor(53, 53, 53))\n",
    "dark_palette.setColor(QPalette.WindowText, Qt.white)\n",
    "dark_palette.setColor(QPalette.Base, QColor(25, 25, 25))\n",
    "dark_palette.setColor(QPalette.AlternateBase, QColor(53, 53, 53))\n",
    "dark_palette.setColor(QPalette.ToolTipBase, Qt.white)\n",
    "dark_palette.setColor(QPalette.ToolTipText, Qt.white)\n",
    "dark_palette.setColor(QPalette.Text, Qt.white)\n",
    "dark_palette.setColor(QPalette.Button, QColor(53, 53, 53))\n",
    "dark_palette.setColor(QPalette.ButtonText, Qt.white)\n",
    "dark_palette.setColor(QPalette.BrightText, Qt.red)\n",
    "dark_palette.setColor(QPalette.Link, QColor(42, 130, 218))\n",
    "dark_palette.setColor(QPalette.Highlight, QColor(42, 130, 218))\n",
    "dark_palette.setColor(QPalette.HighlightedText, Qt.black)\n",
    "\n",
    "qApp.setPalette(dark_palette)\n",
    "\n",
    "qApp.setStyleSheet(\"QToolTip { color: #ffffff; background-color: #2a82da; border: 1px solid white; }\")\n",
    "```"
   ]
  },
  {
   "cell_type": "code",
   "execution_count": 1,
   "metadata": {},
   "outputs": [
    {
     "data": {
      "text/plain": [
       "0"
      ]
     },
     "execution_count": 1,
     "metadata": {},
     "output_type": "execute_result"
    }
   ],
   "source": [
    "from PyQt5.QtWidgets import QApplication, QPushButton\n",
    "app = QApplication([])\n",
    "app.setStyleSheet(\"QPushButton { margin: 10ex; }\")\n",
    "button = QPushButton('Hello World')\n",
    "button.show()\n",
    "app.exec()"
   ]
  },
  {
   "cell_type": "code",
   "execution_count": 1,
   "metadata": {},
   "outputs": [
    {
     "data": {
      "text/plain": [
       "0"
      ]
     },
     "execution_count": 1,
     "metadata": {},
     "output_type": "execute_result"
    }
   ],
   "source": [
    "from PyQt5.QtWidgets import *\n",
    "app = QApplication([])\n",
    "button = QPushButton('Click')\n",
    "def on_button_clicked():\n",
    "    alert = QMessageBox()\n",
    "    alert.setText('You clicked the button!')\n",
    "    alert.exec()\n",
    "\n",
    "button.clicked.connect(on_button_clicked)\n",
    "button.show()\n",
    "app.exec()"
   ]
  },
  {
   "cell_type": "code",
   "execution_count": 1,
   "metadata": {},
   "outputs": [],
   "source": [
    "#!/usr/bin/python3\n",
    "# -*- coding: utf-8 -*-\n",
    "\n",
    "from PyQt5.QtWidgets import QApplication, QWidget\n",
    "from PyQt5.QtGui import QIcon\n",
    "\n",
    "\n",
    "class Example(QWidget):\n",
    "\n",
    "    def __init__(self):\n",
    "        super().__init__()\n",
    "\n",
    "        self.initUI()\n",
    "\n",
    "\n",
    "    def initUI(self):\n",
    "\n",
    "        self.setGeometry(300, 300, 300, 220)\n",
    "        self.setWindowTitle('Icon')\n",
    "        self.setWindowIcon(QIcon('web.png'))\n",
    "\n",
    "        self.show()\n",
    "\n",
    "\n",
    "if __name__ == '__main__':\n",
    "\n",
    "    app = QApplication([])\n",
    "    ex = Example()\n",
    "    app.exec()"
   ]
  }
 ],
 "metadata": {
  "kernelspec": {
   "display_name": "Python 3",
   "language": "python",
   "name": "python3"
  },
  "language_info": {
   "codemirror_mode": {
    "name": "ipython",
    "version": 3
   },
   "file_extension": ".py",
   "mimetype": "text/x-python",
   "name": "python",
   "nbconvert_exporter": "python",
   "pygments_lexer": "ipython3",
   "version": "3.9.2"
  }
 },
 "nbformat": 4,
 "nbformat_minor": 4
}
