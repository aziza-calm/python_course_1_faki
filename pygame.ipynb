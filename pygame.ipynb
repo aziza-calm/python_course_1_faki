{
 "cells": [
  {
   "cell_type": "markdown",
   "metadata": {},
   "source": [
    "### Гит\n",
    "\n",
    "![alt text](http://localhost:8888/view/Documents/python_course_1_faki/cvs_diff.PNG)"
   ]
  },
  {
   "cell_type": "markdown",
   "metadata": {},
   "source": [
    "<img src=\"cvs-diff.png\" alt=\"drawing\" width=\"200\"/>"
   ]
  },
  {
   "cell_type": "markdown",
   "metadata": {},
   "source": [
    "<img src=\"git-commits.PNG\" alt=\"drawing\" width=\"200\"/>"
   ]
  },
  {
   "cell_type": "markdown",
   "metadata": {},
   "source": [
    "| git commands        | \n",
    "| ------------- |\n",
    "| git init      |\n",
    "| git clone      |\n",
    "| git status |\n",
    "| git add |\n",
    "| git commit |\n",
    "| git push |\n",
    "| git pull |\n",
    "| git log |"
   ]
  },
  {
   "cell_type": "code",
   "execution_count": 15,
   "metadata": {},
   "outputs": [
    {
     "name": "stdout",
     "output_type": "stream",
     "text": [
      "Requirement already satisfied: pygame in c:\\users\\aziza.kalmasova\\anaconda3\\lib\\site-packages (2.0.1)\n"
     ]
    }
   ],
   "source": [
    "import sys\n",
    "!pip install --prefix {sys.prefix} pygame"
   ]
  },
  {
   "cell_type": "code",
   "execution_count": 2,
   "metadata": {},
   "outputs": [
    {
     "name": "stdout",
     "output_type": "stream",
     "text": [
      "pygame 2.0.1 (SDL 2.0.14, Python 3.8.3)\n",
      "Hello from the pygame community. https://www.pygame.org/contribute.html\n"
     ]
    },
    {
     "data": {
      "text/plain": [
       "(7, 0)"
      ]
     },
     "execution_count": 2,
     "metadata": {},
     "output_type": "execute_result"
    }
   ],
   "source": [
    "import pygame\n",
    "\n",
    "pygame.init()\n"
   ]
  },
  {
   "cell_type": "code",
   "execution_count": null,
   "metadata": {},
   "outputs": [],
   "source": [
    "\n",
    "screen = pygame.display.set_mode((300, 200))\n",
    "\n",
    "# здесь будут рисоваться фигуры\n",
    "# ...\n",
    "\n",
    "pygame.display.update()\n",
    "\n",
    "while True:\n",
    "    for event in pygame.event.get():\n",
    "        if event.type == pygame.QUIT:\n",
    "            pygame.quit()\n",
    "\n"
   ]
  },
  {
   "cell_type": "markdown",
   "metadata": {},
   "source": [
    "### Вырвиглазный домик"
   ]
  },
  {
   "cell_type": "code",
   "execution_count": 4,
   "metadata": {},
   "outputs": [],
   "source": [
    "import pygame\n",
    "from pygame.draw import *\n",
    "\n",
    "pygame.init()\n",
    "\n",
    "FPS = 30\n",
    "screen = pygame.display.set_mode((400, 400))\n",
    "\n",
    "rect(screen, (255, 0, 255), (100, 100, 200, 200))\n",
    "rect(screen, (0, 0, 255), (100, 100, 200, 200), 5)\n",
    "polygon(screen, (255, 255, 0), [(100,100), (200,50),\n",
    "                               (300,100), (100,100)])\n",
    "polygon(screen, (0, 0, 255), [(100,100), (200,50),\n",
    "                               (300,100), (100,100)], 5)\n",
    "circle(screen, (0, 255, 0), (200, 175), 50)\n",
    "circle(screen, (255, 255, 255), (200, 175), 50, 5)\n",
    "\n",
    "pygame.display.update()\n",
    "clock = pygame.time.Clock()\n",
    "finished = False\n",
    "\n",
    "while not finished:\n",
    "    clock.tick(FPS)\n",
    "    for event in pygame.event.get():\n",
    "        if event.type == pygame.QUIT:\n",
    "            finished = True\n",
    "\n",
    "pygame.quit()"
   ]
  },
  {
   "cell_type": "markdown",
   "metadata": {},
   "source": [
    "### Злая рожица\n",
    "\n",
    "<img src=\"evil-face.png\" alt=\"drawing\" width=\"200\"/>"
   ]
  },
  {
   "cell_type": "code",
   "execution_count": null,
   "metadata": {},
   "outputs": [],
   "source": []
  },
  {
   "cell_type": "code",
   "execution_count": 5,
   "metadata": {},
   "outputs": [],
   "source": [
    "FPS = 30\n",
    "screen = pygame.display.set_mode((400, 400))\n",
    "screen.fill((230, 230, 255))\n",
    "\n",
    "pygame.draw.circle(screen, (255, 211, 0), [200, 200], 100)\n",
    "pygame.draw.circle(screen, (255, 0, 0), [250, 180], 20)\n",
    "pygame.draw.circle(screen, (255, 0, 0), [150, 180], 30)\n",
    "pygame.draw.circle(screen, (0, 0, 0), [250, 180], 10)\n",
    "pygame.draw.circle(screen, (0, 0, 0), [150, 180], 20)\n",
    "pygame.draw.rect(screen, (0, 0, 0), (150, 250, 100, 10))\n",
    "pygame.draw.polygon(screen, (0, 0, 0), [(230, 170), (230, 150), (310, 120), (310, 130)])\n",
    "pygame.draw.polygon(screen, (0, 0, 0), [(170, 160), (170, 140), (90, 120), (90, 130)])\n",
    "\n",
    "pygame.display.update()\n",
    "clock = pygame.time.Clock()\n",
    "finished = False\n",
    "\n",
    "while not finished:\n",
    "    clock.tick(FPS)\n",
    "    for event in pygame.event.get():\n",
    "        if event.type == pygame.QUIT:\n",
    "            finished = True\n",
    "\n",
    "pygame.quit()"
   ]
  },
  {
   "cell_type": "markdown",
   "metadata": {},
   "source": [
    "### Структурное программирование\n",
    "\n",
    "#### Принципы\n",
    "1. Любая программа состоит из трёх типов конструкций: 1. последовательное исполнение; 2. ветвление; 3. цикл.\n",
    "2. Логически целостные фрагменты программы оформляются в виде подпрограмм. В тексте основной программы вставляется инструкция вызова подпрограммы. После окончания подпрограммы исполнение продолжается с инструкции, следующей за командой вызова подпрограммы.\n",
    "3. Разработка программы ведётся поэтапно методом «сверху вниз»."
   ]
  },
  {
   "cell_type": "markdown",
   "metadata": {},
   "source": [
    "### Рефакторинг\n",
    "\n",
    "Рефакторинг — это контролируемый процесс улучшения кода, без написания новой функциональности.\n",
    "\n",
    "Говнокод → конфетка"
   ]
  },
  {
   "cell_type": "markdown",
   "metadata": {},
   "source": [
    "### Рисуем зайчика\n",
    "\n",
    "<img src=\"hare.png\" alt=\"drawing\" width=\"200\"/>"
   ]
  },
  {
   "cell_type": "code",
   "execution_count": null,
   "metadata": {},
   "outputs": [],
   "source": [
    "import pygame\n",
    "from pygame.draw import *\n",
    "\n",
    "pygame.init()\n",
    "\n",
    "FPS = 30\n",
    "screen = pygame.display.set_mode((400, 400))\n",
    "\n",
    "# Здесь мы будем рисовать\n",
    "\n",
    "pygame.display.update()\n",
    "clock = pygame.time.Clock()\n",
    "finished = False\n",
    "\n",
    "while not finished:\n",
    "    clock.tick(FPS)\n",
    "    for event in pygame.event.get():\n",
    "        if event.type == pygame.QUIT:\n",
    "            finished = True\n",
    "\n",
    "pygame.quit()"
   ]
  },
  {
   "cell_type": "code",
   "execution_count": null,
   "metadata": {},
   "outputs": [],
   "source": [
    "# Интерфейс функции\n",
    "# Docstring\n",
    "\n",
    "draw_hare()"
   ]
  },
  {
   "cell_type": "code",
   "execution_count": null,
   "metadata": {},
   "outputs": [],
   "source": []
  },
  {
   "cell_type": "code",
   "execution_count": null,
   "metadata": {},
   "outputs": [],
   "source": []
  },
  {
   "cell_type": "code",
   "execution_count": null,
   "metadata": {},
   "outputs": [],
   "source": []
  },
  {
   "cell_type": "code",
   "execution_count": null,
   "metadata": {},
   "outputs": [],
   "source": []
  },
  {
   "cell_type": "code",
   "execution_count": null,
   "metadata": {},
   "outputs": [],
   "source": []
  },
  {
   "cell_type": "code",
   "execution_count": 7,
   "metadata": {},
   "outputs": [],
   "source": [
    "def draw_body(surface, x, y, width, height, color):\n",
    "    '''\n",
    "    Функция рисует тело зайца.\n",
    "    surface - объект pygame.Surface\n",
    "    x, y - координаты центра изображения\n",
    "    width, height - ширина и высота изобажения\n",
    "    color - цвет, заданный в формате, подходящем для pygame.Color\n",
    "    '''\n",
    "    ellipse(surface, color, (x - width // 2, y - height // 2, width, height))\n",
    "\n",
    "\n",
    "def draw_head(surface, x, y, size, color):\n",
    "    '''\n",
    "    Функция рисует голову зайца.\n",
    "    surface - объект pygame.Surface\n",
    "    x, y - координаты центра изображения\n",
    "    size - диаметр головы\n",
    "    color - цвет, заданный в формате, подходящем для pygame.Color\n",
    "    '''\n",
    "    circle(surface, color, (x, y), size // 2)\n",
    "\n",
    "\n",
    "def draw_ear(surface, x, y, width, height, color):\n",
    "    '''\n",
    "    Функция рисует ухо зайца.\n",
    "    surface - объект pygame.Surface\n",
    "    x, y - координаты центра изображения\n",
    "    width, height - ширина и высота изобажения\n",
    "    color - цвет, заданный в формате, подходящем для pygame.Color\n",
    "    '''\n",
    "    ellipse(surface, color, (x - width // 2, y - height // 2, width, height))\n",
    "\n",
    "\n",
    "def draw_leg(surface, x, y, width, height, color):\n",
    "    '''\n",
    "    Функция рисует ногу зайца.\n",
    "    surface - объект pygame.Surface\n",
    "    x, y - координаты центра изображения\n",
    "    width, height - ширина и высота изобажения\n",
    "    color - цвет, заданный в формате, подходящем для pygame.Color\n",
    "    '''\n",
    "    ellipse(surface, color, (x - width // 2, y - height // 2, width, height))"
   ]
  },
  {
   "cell_type": "code",
   "execution_count": 8,
   "metadata": {},
   "outputs": [],
   "source": [
    "def draw_hare(surface, x, y, width, height, color):\n",
    "    '''\n",
    "    Функция рисует зайца на экране.\n",
    "    surface - объект pygame.Surface\n",
    "    x, y - координаты центра изображения\n",
    "    width, height - ширина и высота изобажения\n",
    "    color - цвет, заданный в формате, подходящем для pygame.Color\n",
    "    '''\n",
    "    body_width = width // 2\n",
    "    body_height = height // 2\n",
    "    body_y = y + body_height // 2\n",
    "    draw_body(surface, x, body_y, body_width, body_height, color)\n",
    "\n",
    "    head_size = height // 4\n",
    "    draw_head(surface, x, y - head_size // 2, head_size, color)\n",
    "\n",
    "    ear_height = height // 3\n",
    "    ear_y = y - height // 2 + ear_height // 2\n",
    "    for ear_x in (x - head_size // 4, x + head_size // 4):\n",
    "        draw_ear(surface, ear_x, ear_y, width // 8, ear_height, color)\n",
    "\n",
    "    leg_height = height // 16\n",
    "    leg_y = y + height // 2 - leg_height // 2\n",
    "    for leg_x in (x - width // 4, x + width // 4):\n",
    "        draw_leg(surface, leg_x, leg_y, width // 4, leg_height, color)"
   ]
  },
  {
   "cell_type": "code",
   "execution_count": 12,
   "metadata": {},
   "outputs": [],
   "source": [
    "import pygame\n",
    "from pygame.draw import *\n",
    "\n",
    "pygame.init()\n",
    "\n",
    "FPS = 30\n",
    "screen = pygame.display.set_mode((400, 400))\n",
    "\n",
    "draw_hare(screen, 200, 200, 200, 300, (255, 255, 0))\n",
    "\n",
    "pygame.display.update()\n",
    "clock = pygame.time.Clock()\n",
    "finished = False\n",
    "\n",
    "while not finished:\n",
    "    clock.tick(FPS)\n",
    "    for event in pygame.event.get():\n",
    "        if event.type == pygame.QUIT:\n",
    "            finished = True\n",
    "\n",
    "pygame.quit()"
   ]
  },
  {
   "cell_type": "markdown",
   "metadata": {},
   "source": [
    "### Пришелец\n",
    "<img src=\"alien.png\" alt=\"drawing\" width=\"200\"/>"
   ]
  },
  {
   "cell_type": "code",
   "execution_count": 6,
   "metadata": {},
   "outputs": [],
   "source": [
    "import pygame\n",
    "from random import randint\n",
    "\n",
    "pygame.init()\n",
    "\n",
    "FPS = 30\n",
    "screen = pygame.display.set_mode((600, 700))\n",
    "\n",
    "\n",
    "def clouds(a):\n",
    "    x = randint(-220, 600)\n",
    "    y = randint(0, 250)\n",
    "    pygame.draw.ellipse(screen, (a, a, a), (x, y, 220, 50))\n",
    "\n",
    "\n",
    "def nlo(x, y):\n",
    "    treu = pygame.Surface((int(240), int(150)))\n",
    "    treu.fill((255, 255, 255))\n",
    "    treu.set_colorkey((255, 255, 255))\n",
    "    pygame.draw.polygon(treu, (250, 250, 250), [(int(125), 0), (int(240), int(150)), (int(10), int(150))])\n",
    "    treu.set_alpha(100)\n",
    "    screen.blit(treu, (x, y))\n",
    "    pygame.draw.ellipse(screen, (190, 190, 190), (x, y, 250, 75))\n",
    "    pygame.draw.ellipse(screen, (230, 230, 230), (x + 30, y - 15, 190, 60))\n",
    "    pygame.draw.ellipse(screen, (253, 233, 16), (x + 110, y + 50, 30, 18))\n",
    "    pygame.draw.ellipse(screen, (253, 233, 16), (x + 60, y + 45, 30, 18))\n",
    "    pygame.draw.ellipse(screen, (253, 233, 16), (x + 160, y + 45, 30, 18))\n",
    "    pygame.draw.ellipse(screen, (253, 233, 16), (x + 15, y + 30, 30, 18))\n",
    "    pygame.draw.ellipse(screen, (253, 233, 16), (x + 210, y + 30, 30, 18))\n",
    "\n",
    "\n",
    "def alien(x, y):\n",
    "    surprise = (randint(128, 255), randint(0, 128), 0)\n",
    "    pygame.draw.ellipse(screen, (187, 240, 51), (x + 10, y + 35, 50, 105))  # body\n",
    "    pygame.draw.ellipse(screen, (187, 255, 51), (x - 20, y + 40, 40, 40))  # left arm\n",
    "    pygame.draw.ellipse(screen, (187, 255, 51), (x - 32, y + 70, 25, 25))\n",
    "    pygame.draw.ellipse(screen, (187, 255, 51), (x - 25, y + 90, 20, 20))\n",
    "    pygame.draw.ellipse(screen, (187, 255, 51), (x + 57, y + 40, 40, 40))  # right arm\n",
    "    pygame.draw.ellipse(screen, (187, 255, 51), (x + 80, y + 70, 25, 25))\n",
    "    pygame.draw.ellipse(screen, (187, 255, 51), (x + 98, y + 85, 25, 17))\n",
    "    pygame.draw.circle(screen, surprise, [x + 130, y + 80], 22)  # apple\n",
    "    pygame.draw.line(screen, (0, 0, 0), [x + 135, y + 65], [x + 140, y + 50], 2)\n",
    "    pygame.draw.polygon(screen, (0, 230, 0), [(x + 136, y + 54), (x + 148, y + 45), (x + 142, y + 50)])\n",
    "    pygame.draw.ellipse(screen, (187, 255, 51), (x - 5, y + 110, 40, 40))  # left leg\n",
    "    pygame.draw.ellipse(screen, (187, 255, 51), (x - 10, y + 140, 30, 30))\n",
    "    pygame.draw.ellipse(screen, (187, 255, 51), (x - 12, y + 160, 20, 20))\n",
    "    pygame.draw.ellipse(screen, surprise, (x - 10, y + 180, 27, 15))\n",
    "    pygame.draw.ellipse(screen, (187, 255, 51), (x + 40, y + 110, 40, 40))  # right leg\n",
    "    pygame.draw.ellipse(screen, (187, 255, 51), (x + 50, y + 140, 30, 30))\n",
    "    pygame.draw.ellipse(screen, (187, 255, 51), (x + 48, y + 160, 20, 20))\n",
    "    pygame.draw.ellipse(screen, surprise, (x + 50, y + 180, 27, 15))\n",
    "    image = pygame.image.load('C:\\\\Users\\\\aziza.kalmasova\\\\Documents\\\\python_course_1_faki\\\\images-games\\\\head.png')  # head\n",
    "    image.set_colorkey((255, 255, 255))\n",
    "    image_rect = image.get_rect(topleft=(x - 53, y - 90))\n",
    "    screen.blit(image, image_rect)\n",
    "    pygame.draw.circle(screen, (187, 255, 51), [x - 20, y - 60], 12)  # left corn\n",
    "    pygame.draw.circle(screen, surprise, [x - 30, y - 75], 8)\n",
    "    pygame.draw.circle(screen, (187, 255, 51), [x + 30, y - 78], 12)  # left corn\n",
    "    pygame.draw.circle(screen, surprise, [x + 25, y - 96], 8)\n",
    "\n",
    "\n",
    "pygame.draw.polygon(screen, (0, 51, 102), [(0, 0), (600, 0), (600, 400), (0, 400)])\n",
    "pygame.draw.polygon(screen, (18, 53, 36), [(0, 400), (600, 400), (600, 700), (0, 700)])\n",
    "pygame.draw.circle(screen, (253, 245, 230), [250, 100], 60)\n",
    "\n",
    "for _ in range(20):\n",
    "    x = randint(100, 230)\n",
    "    clouds(x)\n",
    "\n",
    "nlo(40, 300)\n",
    "alien(400, 400)\n",
    "\n",
    "pygame.display.update()\n",
    "clock = pygame.time.Clock()\n",
    "finished = False\n",
    "\n",
    "while not finished:\n",
    "    clock.tick(FPS)\n",
    "    for event in pygame.event.get():\n",
    "        if event.type == pygame.QUIT:\n",
    "            finished = True\n",
    "\n",
    "pygame.quit()"
   ]
  }
 ],
 "metadata": {
  "kernelspec": {
   "display_name": "Python 3",
   "language": "python",
   "name": "python3"
  },
  "language_info": {
   "codemirror_mode": {
    "name": "ipython",
    "version": 3
   },
   "file_extension": ".py",
   "mimetype": "text/x-python",
   "name": "python",
   "nbconvert_exporter": "python",
   "pygments_lexer": "ipython3",
   "version": "3.8.3"
  }
 },
 "nbformat": 4,
 "nbformat_minor": 4
}
